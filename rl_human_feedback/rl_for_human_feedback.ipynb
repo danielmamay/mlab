{
 "cells": [
  {
   "cell_type": "markdown",
   "metadata": {},
   "source": [
    "# RL for Human Feedback"
   ]
  },
  {
   "cell_type": "code",
   "execution_count": 1,
   "metadata": {},
   "outputs": [],
   "source": [
    "import torch as t\n",
    "import transformers"
   ]
  },
  {
   "cell_type": "code",
   "execution_count": 2,
   "metadata": {},
   "outputs": [],
   "source": [
    "device = t.device('cuda:6' if t.cuda.is_available() else 'cpu')"
   ]
  },
  {
   "cell_type": "markdown",
   "metadata": {},
   "source": [
    "## Train policy on simple reward function"
   ]
  },
  {
   "cell_type": "code",
   "execution_count": 17,
   "metadata": {},
   "outputs": [],
   "source": [
    "def count_periods(s: str):\n",
    "    return s.count('.')"
   ]
  },
  {
   "cell_type": "code",
   "execution_count": 18,
   "metadata": {},
   "outputs": [],
   "source": [
    "def normalize_rewards(rewards):\n",
    "    rewards = rewards - rewards.mean()\n",
    "    rewards = rewards / (rewards.std() + 1e-5)\n",
    "    return rewards"
   ]
  },
  {
   "cell_type": "code",
   "execution_count": 19,
   "metadata": {},
   "outputs": [],
   "source": [
    "tokenizer = transformers.GPT2Tokenizer.from_pretrained('gpt2')\n",
    "model = transformers.GPT2LMHeadModel.from_pretrained('gpt2', pad_token_id=tokenizer.eos_token_id).to(device)\n",
    "ref_model = transformers.GPT2LMHeadModel.from_pretrained('gpt2').to(device)"
   ]
  },
  {
   "cell_type": "code",
   "execution_count": 20,
   "metadata": {},
   "outputs": [
    {
     "data": {
      "text/plain": [
       "tensor([[1212,  318]], device='cuda:6')"
      ]
     },
     "execution_count": 20,
     "metadata": {},
     "output_type": "execute_result"
    }
   ],
   "source": [
    "generic_prompt = tokenizer.encode('This is', return_tensors='pt').to(device)\n",
    "generic_prompt"
   ]
  },
  {
   "cell_type": "code",
   "execution_count": 21,
   "metadata": {},
   "outputs": [],
   "source": [
    "batch_size = 4\n",
    "gen_len = 20\n",
    "learning_rate = 3e-5\n",
    "n_steps = 80"
   ]
  },
  {
   "cell_type": "code",
   "execution_count": 22,
   "metadata": {},
   "outputs": [],
   "source": [
    "def get_logprobs(sample_ids, logits):\n",
    "    logits += 1e-40\n",
    "    logprobs = t.nn.functional.log_softmax(logits, dim=-1)\n",
    "    logprobs = t.gather(logprobs, -1, sample_ids[:,:,None])[:,:,0]\n",
    "    return logprobs\n",
    "\n",
    "def get_loss(sample_ids, old_logprobs, ref_logits, rewards, prefix_len, clip_range=0.2):\n",
    "    logits = model(sample_ids).logits # logits: batch_size, seq_len, vocab_size\n",
    "    logprobs = get_logprobs(sample_ids[:,prefix_len:], logits[:,prefix_len-1:-1]).to(device)        \n",
    "    return -(logprobs * rewards.unsqueeze(1)).mean()\n",
    "    "
   ]
  },
  {
   "cell_type": "code",
   "execution_count": 23,
   "metadata": {},
   "outputs": [],
   "source": [
    "def train_simple_policy_gradient():\n",
    "\n",
    "    optimizer = t.optim.Adam(model.parameters(), learning_rate)\n",
    "    \n",
    "    for step in range(n_steps):\n",
    "            \n",
    "        sample_ids = model.generate(generic_prompt, max_length=generic_prompt.shape[-1]+gen_len, min_length=generic_prompt.shape[-1]+gen_len, do_sample=True, temperature=0.6, top_k=len(tokenizer), top_p=1.0, num_return_sequences=batch_size)\n",
    "        sample_ids.to(device)\n",
    "\n",
    "        old_logits = model(sample_ids).logits.detach()\n",
    "        old_logits = old_logits.detach()\n",
    "        old_logprobs = get_logprobs(sample_ids[:,generic_prompt.shape[-1]:], old_logits[:,generic_prompt.shape[-1]-1:-1]).detach()\n",
    "        ref_logits = ref_model(sample_ids).logits.detach()\n",
    "                \n",
    "        list_of_sentences = tokenizer.batch_decode(sample_ids)\n",
    "        print(list_of_sentences)\n",
    "\n",
    "        rewards = t.tensor([count_periods(s) for s in list_of_sentences], dtype=t.float32).to(device)\n",
    "        rewards = normalize_rewards(rewards)\n",
    "        print(rewards)\n",
    "\n",
    "        for epoch in range(1):\n",
    "            loss = get_loss(sample_ids, old_logprobs, ref_logits, rewards, prefix_len=len(generic_prompt))\n",
    "            loss.backward()\n",
    "            t.nn.utils.clip_grad_norm_(model.parameters(), 1.0, norm_type=2.0, error_if_nonfinite=True)\n",
    "            optimizer.step()\n",
    "            optimizer.zero_grad()"
   ]
  },
  {
   "cell_type": "code",
   "execution_count": 24,
   "metadata": {},
   "outputs": [
    {
     "name": "stdout",
     "output_type": "stream",
     "text": [
      "['This is a case where he can be very strong. He is a very good player and has won the league', 'This is an interesting thought experiment, and I think it would be a great idea to set up a lab for', 'This is a massive increase in the amount of fuel that people are using to transport their cars to work,\" said', 'This is a silly question: How can they possibly know that the person who said \"Hey, I love that']\n",
      "tensor([ 1.5000, -0.5000, -0.5000, -0.5000], device='cuda:6')\n",
      "[\"This is the kind of thing that we want to do, and one of the things that's going to be\", 'This is a very small number of people who are engaged in the campaign to save jobs and our economy, and', \"This is what I'm about to say, because when I saw the video of the moment, I was like\", 'This is why the PPP is the best indicator of how far government has come in the last decade of the']\n",
      "tensor([0., 0., 0., 0.], device='cuda:6')\n",
      "[\"This is the case with the P.A.A. in the 1970's. The P.A.\", 'This is a very different type of situation than what we have seen from our leaders in the past. It is', 'This is an entirely new and very exciting topic. Writing about this topic is a very important thing for any writer', \"This is the first time that a major publisher has released a new game, and it's a big step forward\"]\n",
      "tensor([ 1.4771, -0.3693, -0.3693, -0.7385], device='cuda:6')\n",
      "['This is the same with the new album, which will be released on October 22nd.\\n\\nThe new', 'This is why we are working on it,\" he said. \"It\\'s not a question of if we can', 'This is a good example of the kind of substance that the media has been using to get attention for a long', 'This is why I am having so much fun. I am very happy to be back to this venue. It']\n",
      "tensor([ 0.0000,  0.0000, -1.2247,  1.2247], device='cuda:6')\n",
      "[\"This is a very good way to develop your game. I've heard you say that the next game in the\", \"This is a good thing. It's a good thing to have a big game. We were really, really\", \"This is the first time I have been in a game with just one character. I've seen it before and\", 'This is an example of the network that is being built on top of the previous one in the form of a']\n",
      "tensor([ 0.0000,  1.2247,  0.0000, -1.2247], device='cuda:6')\n",
      "['This is the same story with the secret of the blind. The blind is a creature of darkness and cannot see', 'This is the point where I almost forgot that I am a real person. I am not a witch. I', 'This is not the case with the other two.\\n\\n\"We are in a good position to have the', 'This is the best possible case. The problem with this is that the only way to do this is to have']\n",
      "tensor([-0.5000,  1.5000, -0.5000, -0.5000], device='cuda:6')\n",
      "['This is not the case with a serious heart attack. It is a chronic condition. It is a disease.', \"This is a game that is very hard to play. I'm not very good at it, I'm not\", 'This is the message of the British government. The government has decided that the only way in which the British government', 'This is not a matter of being a good person, it is not up to you. It is up to']\n",
      "tensor([ 1.5000, -0.5000, -0.5000, -0.5000], device='cuda:6')\n",
      "['This is why the United States should never have to go through a war with Iran or any other country.\\n', 'This is the kind of thing that I would rather not do.\\n\\n\"But I\\'m not going to', \"This is a very simple one.\\n\\nI am not saying that you can't apply this rule to other\", 'This is why we say that the International Space Station is an important place to be.\\n\\nIn the space']\n",
      "tensor([0., 0., 0., 0.], device='cuda:6')\n",
      "[\"This is the case with the first car from the Red Bull team. The car isn't anything special but it\", 'This is a man who will never be a man.\"\\n\\n\"I have no doubt that the man who', 'This is a very simple and elegant operation. The key is to allow the object to be updated.\\n\\n', 'This is a case where we are all here together, and we have to be very strong as a community together']\n",
      "tensor([ 0.0000,  0.0000,  1.2247, -1.2247], device='cuda:6')\n",
      "['This is the point where I started to think about it. I was very young and I had a lot of', 'This is not a problem. We are just trying to play a game. We are not trying to kill it', 'This is a very good time to start your own shop. It is now a very good time to start your', \"This is the case with the new 'Shame' Roman Catholics. After a long period of silence, they\"]\n",
      "tensor([-0.5000,  1.5000, -0.5000, -0.5000], device='cuda:6')\n",
      "['This is the difference between the English and the French.\\n\\nThe English are strong, and will do well', 'This is the reason why I have such an affinity for the Texas Longhorns. They are the only team in', 'This is why I am so happy to be back to this place. The people here are so good! I', \"This is a very good thing. It's a good thing that I was able to get to this place in\"]\n",
      "tensor([0., 0., 0., 0.], device='cuda:6')\n",
      "['This is why, I am always seeking to understand the true nature of the state, the nature of the people', \"This is why I didn't want to go to the UK. I wanted to get the best possible deal for\", 'This is the case with the election. The election is over. The people are back. The people have been', 'This is why I am so proud of the fact that I am the only one in the NFL. I am']\n",
      "tensor([-0.9934, -0.1987,  1.3907, -0.1987], device='cuda:6')\n",
      "['This is the case with our deck. We always have to be aggressive. We always have to be a threat', 'This is a good thing.\\n\\n\"I think it\\'s all about the Premier League. It\\'s a', 'This is not to say that the government is not involved in the process.\\n\\nThe precedent sets out the', 'This is why I am so stressed about the fact that this is a good thing, and not a bad thing']\n",
      "tensor([ 0.7833,  0.7833, -0.2611, -1.3056], device='cuda:6')\n",
      "['This is the issue of alcohol consumption.\\n\\nThe report was commissioned by the government, which was elected in', \"This is why I don't want to be behind-the-scenes of my own work. I am not\", \"This is the key. The key is the key to making the most of your time. It's time to\", 'This is important because if you were to really want to make a statement about your character, you would have to']\n",
      "tensor([ 0.0000,  0.0000,  1.2247, -1.2247], device='cuda:6')\n",
      "['This is more a matter of style and case than anything else.\\n\\nHe is a good player. He', 'This is the case with the last-named, winner of the Premier League title this season.\\n\\nWith', 'This is because the most common way to find a friend is to meet them. You meet them just as you', \"This is a good thing. It's a good thing. It's a good thing. I don't think\"]\n",
      "tensor([ 0.2611, -0.7833, -0.7833,  1.3056], device='cuda:6')\n",
      "['This is what you get in the world of Android. The Google Play Store is a great place to find your', 'This is a case where a writer with no experience can not only be a good writer but also be a good', 'This is the case with the first one. It is a beautiful, beautiful, beautiful, beautiful, beautiful.', 'This is a country that has been rocked by a series of deaths and the possibility of a new wave of violence']\n",
      "tensor([ 0.2611, -0.7833,  1.3056, -0.7833], device='cuda:6')\n",
      "['This is what it would be like for them. She has a much better life and she is a better person', 'This is the case with the concept of a \"normal\" person. I\\'m going to assume you\\'re not', 'This is a really good thing.\\n\\n\"We\\'ve got to be more in the game. We\\'ve', \"This is the case with the new VirtualBox. It's a great solution if you don't have a virtual\"]\n",
      "tensor([-0.5000, -0.5000,  1.5000, -0.5000], device='cuda:6')\n",
      "[\"This is a good thing. I'm not saying that. I'm not saying that. I'm not saying\", 'This is not a woman. It is a man. It is a man. It is a man. It', 'This is the case with Parry. Parry is the most important pick in the draft. His ability to', 'This is the point where they have to lie. They have to lie. They have to lie. They have']\n",
      "tensor([ 0.0000,  1.2247, -1.2247,  0.0000], device='cuda:6')\n",
      "['This is not the case.\\n\\nIt is not the case.\\n\\nIt is not the case.', 'This is the case with the single-game-with-a-sword. It is the case with the', 'This is a very simple way to do it.\\n\\nIn our experience, the more the player has played', 'This is a great way to get a response.\\n\\n\"It\\'s not a place to be,\" he']\n",
      "tensor([ 1.5000, -0.5000, -0.5000, -0.5000], device='cuda:6')\n",
      "['This is a problem. I have to be able to win. I have to step it up. I have', \"This is a good thing. It's great. It's a good thing. It's a good thing.\", 'This is the case with the Communist Party in China. It is the case with the Communists in the USSR.', \"This is very difficult. It's very hard. I don't want to be out there. I don't\"]\n",
      "tensor([ 0.0000,  1.2247, -1.2247,  0.0000], device='cuda:6')\n",
      "['This is the point where you learn, you learn, you learn, you learn, you learn, you learn', 'This is not the case. The evidence clearly shows that it does not. And that is why we have a', \"This is a good thing. It's a good thing. It's a good thing. It's a good\", 'This is not the case.\\n\\nThe difference is that the player is the player and the team is the']\n",
      "tensor([-1.1619,  0.3873,  1.1619, -0.3873], device='cuda:6')\n",
      "['This is why we are here. It is because of you. Because of me. Because of you. Because', 'This is what I am. I am a human being. I am a human being. I am a human', \"This is a lot of things. It's a lot of things. It's a lot of things. It\", 'This is the case with yours. It is the case with you. It is the case with you. It']\n",
      "tensor([ 1.5000, -0.5000, -0.5000, -0.5000], device='cuda:6')\n",
      "['This is the day when I think about what I want to do. I want to be a team player.', 'This is the main problem. We have to be careful. We have to be careful. We have to be', \"This is a real problem. It's a real problem. It's a real problem. It's a real\", \"This is the truth. It's the truth. It's the truth. It's the truth. It's\"]\n",
      "tensor([-1.2247,  0.0000,  0.0000,  1.2247], device='cuda:6')\n",
      "[\"This is a good thing. It's a good thing. It's a good thing. It's a good\", 'This is not a good thing. The people who are fighting for him are not that. They are not that', \"This is a very good thing. We've been through a lot. We've been through a lot. We\", 'This is not the case. It is a problem. It is not a problem. It is a problem.']\n",
      "tensor([ 0.0000, -1.2247,  0.0000,  1.2247], device='cuda:6')\n",
      "['This is the one for me. I am for you. I am for you. I am for you.', \"This is what you need. I'm just a game. I'm a game. I'm just a game\", \"This is the most beautiful thing about the world. It's the most beautiful place. It's the most beautiful\", 'This is a real thing. The real thing is the real thing. The real thing is the real thing.']\n",
      "tensor([ 1.2247,  0.0000, -1.2247,  0.0000], device='cuda:6')\n",
      "[\"This is just an issue. It doesn't matter. It doesn't matter. It doesn't matter. It\", 'This is the problem. It is the problem. It is the problem. It is the problem. It is', 'This is the case. It is a problem. It is a problem. It is a problem. It is', 'This is our job. We are a team. We are a team. We are a team. We are']\n",
      "tensor([0., 0., 0., 0.], device='cuda:6')\n",
      "[\"This is a very big mistake. It's not a big mistake. It's a very big mistake. It\", 'This is why I am here. I am here. I am here. I am here. I am here', \"This is a very good thing and a very good thing. It's a very good thing. It's a\", 'This is a very important thing. I am not asking you. I am asking you. This is a very']\n",
      "tensor([ 0.0000,  1.2247, -1.2247,  0.0000], device='cuda:6')\n",
      "[\"This is a good thing. It's a good thing. It's a good thing. It's a good\", 'This is the difference, is it not?\"\\n\\n\"We are not…\"\\n\\n\"You are the', \"This is not my fault. It's my fault. It's my fault. It's my fault. It\", 'This is the only way to get the game back.\"\\n\\nThe team is still hoping to win the league']\n",
      "tensor([ 0.5477, -1.0954,  1.0954, -0.5477], device='cuda:6')\n",
      "['This is why I am here. It is why I am here. It is why I am here. It', 'This is not the case.\"\\n\\n\"The case is not the case. The case is not the case', \"This is the best.\\n\\nI don't think it's the best.\\n\\nIt's the best\", 'This is one. It is one. It is one. It is one. It is one. It is']\n",
      "tensor([ 0.0000, -0.7071, -0.7071,  1.4142], device='cuda:6')\n",
      "['This is what we do. We do it. We do it. We do it. We do it.', \"This is one of the most important things. It's one of the things. It's one of the things\", 'This is not a true program. It is a system. It is an operating system. It is a system', 'This is not the case. It is not the case. It is not the case. It is not the']\n",
      "tensor([ 1.3907, -0.9934, -0.1987, -0.1987], device='cuda:6')\n",
      "['This is what a game is. It\\'s what a game is.\"\\n\\nIt\\'s a game. It', 'This is NOT a security issue. It is a security issue. It is a security issue. It is a', \"This is a problem. It's a problem. It's a problem. It's a problem. It's\", \"This is the reality. It's the reality. It's the reality. It's the reality. It's\"]\n",
      "tensor([-0.8660, -0.8660,  0.8660,  0.8660], device='cuda:6')\n",
      "['This is the point. It is the point. It is the point. It is the point. It is', \"This is all right, Lillian. It's all right, Lillian. It's all right, L\", 'This is the truth. It is the truth. It is the truth. It is the truth. It is', 'This is how it is. It is. It is. It is. It is. It is. It']\n",
      "tensor([ 0.0000, -1.2247,  0.0000,  1.2247], device='cuda:6')\n",
      "[\"This is a very good product. It's very good. It's very good. It's very good.\", 'This is what happened.\\n\\nWhat is it?\\n\\nWhat is it?\\n\\nWhat is it', 'This is not your problem. It is your problem. It is your problem. It is your problem. It', 'This is not a problem. It is a problem. It is a problem. It is a problem. It']\n",
      "tensor([ 0.5000, -1.5000,  0.5000,  0.5000], device='cuda:6')\n",
      "['This is a problem. It is a problem. It is a problem. It is a problem. It is', 'This is incorrect. It is incorrect. It is incorrect. It is incorrect. It is incorrect. It is', 'This is the problem. It is a problem. It is a problem. It is a problem. It is', 'This is a problem. It is a problem. It is a problem. It is a problem. It is']\n",
      "tensor([-0.5000,  1.5000, -0.5000, -0.5000], device='cuda:6')\n",
      "['This is not my fault. This is my fault. This is my fault. This is my fault. This', 'This is what we do. We are here. We are here. We are here. We are here.', 'This is not how it works. It is how it works. It is how it works. It is how', 'This is true. It is true. It is true. It is true. It is true. It is']\n",
      "tensor([-0.2611,  0.7833, -1.3056,  0.7833], device='cuda:6')\n",
      "['This is true. It is true. It is true. It is true. It is true. It is', 'This is why it is here. It is here. It is here. It is here. It is here', \"This is where I've been. I've been. I've been. I've been. I've been\", \"This is a mistake. It's a mistake. It's a mistake. It's a mistake. It's\"]\n",
      "tensor([ 1.5000, -0.5000, -0.5000, -0.5000], device='cuda:6')\n",
      "[\"This is a good thing. It's good. It's good. It's good. It's good.\", \"This is a problem. It's a problem. It's a problem. It's a problem. It's\", 'This is why I am. I am. I am. I am. I am. I am. I', \"This is a problem. It's a problem. It's a problem. It's a problem. It's\"]\n",
      "tensor([ 0.2611, -0.7833,  1.3056, -0.7833], device='cuda:6')\n",
      "['This is true. It is true. It is true. It is true. It is true. It is', 'This is not mine. It is yours. It is yours. It is yours. It is yours. It', 'This is not true. It is false. It is false. It is false. It is false. It', \"This is a good thing. It's a good thing. It's a good thing. It's a good\"]\n",
      "tensor([ 0.5000,  0.5000,  0.5000, -1.5000], device='cuda:6')\n",
      "['This is. It is. It is. It is. It is. It is. It is. It', 'This is true. It is true. It is true. It is true. It is true. It is', 'This is what matters. It is. It is. It is. It is. It is. It is', 'This is simply not true. It is not true. It is false. It is false. It is false']\n",
      "tensor([ 1.1619, -0.3873,  0.3873, -1.1619], device='cuda:6')\n",
      "['This is absolutely true. It is not true. It is not true. It is not true. It is', 'This is my friend. I am yours. I am yours. I am yours. I am yours. I', 'This is not true. It is false. It is false. It is false. It is false. It', 'This is. I am. I am. I am. I am. I am. I am. I']\n",
      "tensor([-0.9934, -0.1987, -0.1987,  1.3907], device='cuda:6')\n",
      "['This is. It is. It is. It is. It is. It is. It is. It', 'This is. It is. It is. It is. It is. It is. It is. It', 'This is why. Because I do. Because. Because. Because. Because. Because. Because. Because.', 'This is your home. Now go home. Renal. Renal. Renal. Renal. Ren']\n",
      "tensor([-0.1987, -0.1987,  1.3907, -0.9934], device='cuda:6')\n",
      "['This is what I want. I want. I want. I want. I want. I want. I', 'This is more than a little naughty. I am very pleased. I am very pleased. I am very pleased', 'This is. It is. It is. It is. It is. It is. It is. It', 'This is. It is. It is. It is. It is. It is. It is. It']\n",
      "tensor([ 0.1321, -1.4527,  0.6603,  0.6603], device='cuda:6')\n",
      "['This is not. It is not. It is not. It is not. It is not. It is', 'This is. It is. It is. It is. It is. It is. It is. It', 'This is. But. You know. Why. Did. It. Do. It. Do. It.', 'This is. It is. It is. It is. It is. It is. It is. It']\n",
      "tensor([-1.0914, -0.1213,  1.3339, -0.1213], device='cuda:6')\n",
      "['This is correct. It is correct. It is correct. It is correct. It is correct. It is', 'This is. It is. It is. It is. It is. It is. It is. It', 'This is. It is. It is. It is. It is. It is. It is. It', 'This is. It is. It is. It is. It is. It is. It is. It']\n",
      "tensor([-1.5000,  0.5000,  0.5000,  0.5000], device='cuda:6')\n",
      "['This is. I am. I am. I am. I am. I am. I am. I', 'This is. It is. It is. It is. It is. It is. It is. It', 'This is. It is. It is. It is. It is. It is. It is. It', 'This is. It is. It is. It is. It is. It is. It is. It']\n",
      "tensor([0., 0., 0., 0.], device='cuda:6')\n",
      "['This is. It is. It is. It is. It is. It is. It is. It', 'This is. It is. It is. It is. It is. It is. It is. It', 'This is. It is. It is. It is. It is. It is. It is. It', 'This is. I am. I am. I am. I am. I am. I am. I']\n",
      "tensor([0., 0., 0., 0.], device='cuda:6')\n",
      "['This is. It is. It is. It is. It is. It is. It is. It', 'This is. I am. I am. I am. I am. I am. I am. I', 'This is. I am. I am. I am. I am. I am. I am. I', 'This is. It is. It is. It is. It is. It is. It is. It']\n",
      "tensor([0., 0., 0., 0.], device='cuda:6')\n",
      "['This is. It is. It is. It is. It is. It is. It is. It', 'This is. And it does. And it does. And it does. And it does. And it does', 'This is. It is. It is. It is. It is. It is. It is. It', 'This is. It is. It is. It is. It is. It is. It is. It']\n",
      "tensor([ 0.5000, -1.5000,  0.5000,  0.5000], device='cuda:6')\n",
      "['This is. It is. It is. It is. It is. It is. It is. It', 'This is.\"\\n\\nHe nodded. \"I will. I will. I will. I will. I', 'This is. It is. It is. It is. It is. It is. It is. It', 'This is. It is. It is. It is. It is. It is. It is. It']\n",
      "tensor([ 0.5000, -1.5000,  0.5000,  0.5000], device='cuda:6')\n",
      "['This is! It is! It is! It is! It is! It is! It is! It', 'This is. It is. It is. It is. It is. It is. It is. It', 'This is. It is. It is. It is. It is. It is. It is. It', 'This is. It is. It is. It is. It is. It is. It is. It']\n",
      "tensor([-1.5000,  0.5000,  0.5000,  0.5000], device='cuda:6')\n",
      "['This is. It is. It is. It is. It is. It is. It is. It', 'This is. It is. It is. It is. It is. It is. It is. It', 'This is. It is. It is. It is. It is. It is. It is. It', 'This is. It is. It is. It is. It is. It is. It is. It']\n",
      "tensor([0., 0., 0., 0.], device='cuda:6')\n",
      "['This is. It is. It is. It is. It is. It is. It is. It', 'This is. It is. It is. It is. It is. It is. It is. It', \"This is.]\\n\\n[59] The Lord said unto him: — 'Thus saith the Lord unto\", 'This is. It is. It is. It is. It is. It is. It is. It']\n",
      "tensor([ 0.5000,  0.5000, -1.5000,  0.5000], device='cuda:6')\n",
      "['This is. It is. It is. It is. It is. It is. It is. It', 'This is. It is. It is. It is. It is. It is. It is. It', 'This is. It is. It is. It is. It is. It is. It is. It', 'This is. It is. It is. It is. It is. It is. It is. It']\n",
      "tensor([0., 0., 0., 0.], device='cuda:6')\n",
      "['This is. It is. It is. It is. It is. It is. It is. It', 'This is. It is. It is. It is. It is. It is. It is. It', 'This is. It is. It is. It is. It is. It is. It is. It', 'This is. It is. It is. It is. It is. It is. It is. It']\n",
      "tensor([0., 0., 0., 0.], device='cuda:6')\n",
      "['This is. It is. It is. It is. It is. It is. It is. It', 'This is. It is. It is. It is. It is. It is. It is. It', 'This is. It is. It is. It is. It is. It is. It is. It', 'This is. It is. It is. It is. It is. It is. It is. It']\n",
      "tensor([0., 0., 0., 0.], device='cuda:6')\n",
      "['This is. It is. It is. It is. It is. It is. It is. It', 'This is. It is. It is. It is. It is. It is. It is. It', 'This is. It is. It is. It is. It is. It is. It is. It', 'This is. It is. It is. It is. It is. It is. It is. It']\n",
      "tensor([0., 0., 0., 0.], device='cuda:6')\n",
      "['This is. It is. It is. It is. It is. It is. It is. It', 'This is. It is. It is. It is. It is. It is. It is. It', 'This is. It is. It is. It is. It is. It is. It is. It', 'This is. It is. It is. It is. It is. It is. It is. It']\n",
      "tensor([0., 0., 0., 0.], device='cuda:6')\n",
      "['This is. It is. It is. It is. It is. It is. It is. It', 'This is. It is. It is. It is. It is. It is. It is. It', 'This is. It is. It is. It is. It is. It is. It is. It', 'This is. It is. It is. It is. It is. It is. It is. It']\n",
      "tensor([0., 0., 0., 0.], device='cuda:6')\n",
      "['This is. It is. It is. It is. It is. It is. It is. It', 'This is. It is. It is. It is. It is. It is. It is. It', 'This is. It is. It is. It is. It is. It is. It is. It', 'This is. It is. It is. It is. It is. It is. It is. It']\n",
      "tensor([0., 0., 0., 0.], device='cuda:6')\n",
      "['This is. It is. It is. It is. It is. It is. It is. It', 'This is. It is. It is. It is. It is. It is. It is. It', 'This is. It is. It is. It is. It is. It is. It is. It', 'This is. It is. It is. It is. It is. It is. It is. It']\n",
      "tensor([0., 0., 0., 0.], device='cuda:6')\n",
      "['This is. It is. It is. It is. It is. It is. It is. It', 'This is. It is. It is. It is. It is. It is. It is. It', 'This is. It is. It is. It is. It is. It is. It is. It', 'This is. It is. It is. It is. It is. It is. It is. It']\n",
      "tensor([0., 0., 0., 0.], device='cuda:6')\n",
      "['This is. It is. It is. It is. It is. It is. It is. It', 'This is. It is. It is. It is. It is. It is. It is. It', 'This is. It is. It is. It is. It is. It is. It is. It', 'This is. It is. It is. It is. It is. It is. It is. It']\n",
      "tensor([0., 0., 0., 0.], device='cuda:6')\n",
      "['This is. It is. It is. It is. It is. It is. It is. It', 'This is. It is. It is. It is. It is. It is. It is. It', 'This is. It is. It is. It is. It is. It is. It is. It', 'This is. It is. It is. It is. It is. It is. It is. It']\n",
      "tensor([0., 0., 0., 0.], device='cuda:6')\n",
      "['This is. It is. It is. It is. It is. It is. It is. It', 'This is. It is. It is. It is. It is. It is. It is. It', 'This is. It is. It is. It is. It is. It is. It is. It', 'This is. It is. It is. It is. It is. It is. It is. It']\n",
      "tensor([0., 0., 0., 0.], device='cuda:6')\n",
      "['This is. It is. It is. It is. It is. It is. It is. It', 'This is. It is. It is. It is. It is. It is. It is. It', 'This is. It is. It is. It is. It is. It is. It is. It', 'This is. It is. It is. It is. It is. It is. It is. It']\n",
      "tensor([0., 0., 0., 0.], device='cuda:6')\n",
      "['This is. It is. It is. It is. It is. It is. It is. It', 'This is. It is. It is. It is. It is. It is. It is. It', 'This is. It is. It is. It is. It is. It is. It is. It', 'This is; but. we do. We do. We do. We do. We do. We do']\n",
      "tensor([ 0.5000,  0.5000,  0.5000, -1.5000], device='cuda:6')\n",
      "['This is. It is. It is. It is. It is. It is. It is. It', 'This is. It is. It is. It is. It is. It is. It is. It', 'This is. It is. It is. It is. It is. It is. It is. It', 'This is. It is. It is. It is. It is. It is. It is. It']\n",
      "tensor([0., 0., 0., 0.], device='cuda:6')\n",
      "['This is. It is. It is. It is. It is. It is. It is. It', 'This is. It is. It is. It is. It is. It is. It is. It', 'This is. It is. It is. It is. It is. It is. It is. It', 'This is. It is. It is. It is. It is. It is. It is. It']\n",
      "tensor([0., 0., 0., 0.], device='cuda:6')\n",
      "['This is. It is. It is. It is. It is. It is. It is. It', 'This is. It is. It is. It is. It is. It is. It is. It', 'This is. It is. It is. It is. It is. It is. It is. It', 'This is. It is. It is. It is. It is. It is. It is. It']\n",
      "tensor([0., 0., 0., 0.], device='cuda:6')\n",
      "['This is. It is. It is. It is. It is. It is. It is. It', 'This is. It is. It is. It is. It is. It is. It is. It', 'This is. It is. It is. It is. It is. It is. It is. It', 'This is. It is. It is. It is. It is. It is. It is. It']\n",
      "tensor([0., 0., 0., 0.], device='cuda:6')\n",
      "['This is. It is. It is. It is. It is. It is. It is. It', 'This is. It is. It is. It is. It is. It is. It is. It', 'This is. It is. It is. It is. It is. It is. It is. It', 'This is. It is. It is. It is. It is. It is. It is. It']\n",
      "tensor([0., 0., 0., 0.], device='cuda:6')\n",
      "['This is. It is. It is. It is. It is. It is. It is. It', 'This is. It is. It is. It is. It is. It is. It is. It', 'This is. It is. It is. It is. It is. It is. It is. It', 'This is. It is. It is. It is. It is. It is. It is. It']\n",
      "tensor([0., 0., 0., 0.], device='cuda:6')\n",
      "['This is. It is. It is. It is. It is. It is. It is. It', 'This is. It is. It is. It is. It is. It is. It is. It', 'This is. It is. It is. It is. It is. It is. It is. It', 'This is. It is. It is. It is. It is. It is. It is. It']\n",
      "tensor([0., 0., 0., 0.], device='cuda:6')\n",
      "['This is. It is. It is. It is. It is. It is. It is. It', 'This is. It is. It is. It is. It is. It is. It is. It', 'This is. It is. It is. It is. It is. It is. It is. It', 'This is. It is. It is. It is. It is. It is. It is. It']\n",
      "tensor([0., 0., 0., 0.], device='cuda:6')\n",
      "['This is. It is. It is. It is. It is. It is. It is. It', 'This is. It is. It is. It is. It is. It is. It is. It', 'This is. It is. It is. It is. It is. It is. It is. It', 'This is. It is. It is. It is. It is. It is. It is. It']\n",
      "tensor([0., 0., 0., 0.], device='cuda:6')\n",
      "['This is. It is. It is. It is. It is. It is. It is. It', 'This is. It is. It is. It is. It is. It is. It is. It', 'This is. It is. It is. It is. It is. It is. It is. It', 'This is. It is. It is. It is. It is. It is. It is. It']\n",
      "tensor([0., 0., 0., 0.], device='cuda:6')\n",
      "['This is. It is. It is. It is. It is. It is. It is. It', 'This is. It is. It is. It is. It is. It is. It is. It', 'This is. It is. It is. It is. It is. It is. It is. It', 'This is. It is. It is. It is. It is. It is. It is. It']\n",
      "tensor([0., 0., 0., 0.], device='cuda:6')\n",
      "['This is. It is. It is. It is. It is. It is. It is. It', 'This is. It is. It is. It is. It is. It is. It is. It', 'This is. It. It. It. It. It. It. It. It. It. It', 'This is. It is. It is. It is. It is. It is. It is. It']\n",
      "tensor([-0.5000, -0.5000,  1.5000, -0.5000], device='cuda:6')\n",
      "['This is. It. It. It. It. It. It. It. It. It. It', 'This is. It. It. It. It. It. It. It. It. It. It', 'This is. It. It. It. It. It. It. It. It. It. It', 'This is. It. It. It. It. It. It. It. It. It. It']\n",
      "tensor([0., 0., 0., 0.], device='cuda:6')\n",
      "['This is. It. It. It. It. It. It. It. It. It. It', 'This is. It. It. It. It. It. It. It. It. It. It', 'This is. It. It. It. It. It. It. It. It. It. It', 'This is. It. It. It. It. It. It. It. It. It. It']\n",
      "tensor([0., 0., 0., 0.], device='cuda:6')\n"
     ]
    }
   ],
   "source": [
    "train_simple_policy_gradient()"
   ]
  }
 ],
 "metadata": {
  "kernelspec": {
   "display_name": "Python 3",
   "language": "python",
   "name": "python3"
  },
  "language_info": {
   "codemirror_mode": {
    "name": "ipython",
    "version": 3
   },
   "file_extension": ".py",
   "mimetype": "text/x-python",
   "name": "python",
   "nbconvert_exporter": "python",
   "pygments_lexer": "ipython3",
   "version": "3.8.10"
  }
 },
 "nbformat": 4,
 "nbformat_minor": 4
}
