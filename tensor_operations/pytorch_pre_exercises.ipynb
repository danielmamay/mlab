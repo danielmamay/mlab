{
  "nbformat": 4,
  "nbformat_minor": 0,
  "metadata": {
    "colab": {
      "name": "pytorch_pre_exercises.ipynb",
      "provenance": [],
      "collapsed_sections": []
    },
    "kernelspec": {
      "name": "python3",
      "display_name": "Python 3"
    },
    "language_info": {
      "name": "python"
    }
  },
  "cells": [
    {
      "cell_type": "code",
      "source": [
        "!pip install einops"
      ],
      "metadata": {
        "colab": {
          "base_uri": "https://localhost:8080/"
        },
        "id": "9fMAC0Wg9Y7g",
        "outputId": "e7d6ac14-caa4-46c9-e643-582765c90e1f"
      },
      "execution_count": 191,
      "outputs": [
        {
          "output_type": "stream",
          "name": "stdout",
          "text": [
            "Requirement already satisfied: einops in /usr/local/lib/python3.7/dist-packages (0.3.2)\n"
          ]
        }
      ]
    },
    {
      "cell_type": "code",
      "execution_count": 192,
      "metadata": {
        "id": "0V3MEnfe8-vx"
      },
      "outputs": [],
      "source": [
        "import einops\n",
        "import torch"
      ]
    },
    {
      "cell_type": "markdown",
      "source": [
        "# Q1"
      ],
      "metadata": {
        "id": "-iqa6xkR9OVX"
      }
    },
    {
      "cell_type": "markdown",
      "source": [
        "Construct the tensor\n",
        "`[[3, 4],\n",
        " [5, 6],\n",
        " [7, 8]]`\n",
        "using only `torch.arange` and `einops.rearrange`."
      ],
      "metadata": {
        "id": "cRkFQAUCEVpm"
      }
    },
    {
      "cell_type": "code",
      "source": [
        "tensor = torch.arange(3, 9)\n",
        "einops.rearrange(tensor, '(a b) -> a b', a=3, b=2)"
      ],
      "metadata": {
        "colab": {
          "base_uri": "https://localhost:8080/"
        },
        "id": "No1Rb-At9CTH",
        "outputId": "53fbe2d6-334e-40c8-e9ea-2a9afb5a81eb"
      },
      "execution_count": 193,
      "outputs": [
        {
          "output_type": "execute_result",
          "data": {
            "text/plain": [
              "tensor([[3, 4],\n",
              "        [5, 6],\n",
              "        [7, 8]])"
            ]
          },
          "metadata": {},
          "execution_count": 193
        }
      ]
    },
    {
      "cell_type": "markdown",
      "source": [
        "Now construct \n",
        "`[[1, 2, 3],\n",
        " [4, 5, 6]]`\n",
        "and\n",
        "`[[[1], [2], [3], [4], [5], [6]]]`."
      ],
      "metadata": {
        "id": "-kw0tbVMEdux"
      }
    },
    {
      "cell_type": "code",
      "source": [
        "tensor = torch.arange(1, 7)\n",
        "einops.rearrange(tensor, '(a) -> 1 a 1')"
      ],
      "metadata": {
        "colab": {
          "base_uri": "https://localhost:8080/"
        },
        "id": "DvED01Q19D2K",
        "outputId": "0e7a55ba-0f8a-4575-ef9f-87f36cd8afe8"
      },
      "execution_count": 194,
      "outputs": [
        {
          "output_type": "execute_result",
          "data": {
            "text/plain": [
              "tensor([[[1],\n",
              "         [2],\n",
              "         [3],\n",
              "         [4],\n",
              "         [5],\n",
              "         [6]]])"
            ]
          },
          "metadata": {},
          "execution_count": 194
        }
      ]
    },
    {
      "cell_type": "markdown",
      "source": [
        "# Q2"
      ],
      "metadata": {
        "id": "5keVxnMeAgyp"
      }
    },
    {
      "cell_type": "markdown",
      "source": [
        "Get the average temperature by week from a vector of daily temperatures. The input is a 1d tensor whose length is a multiple of 7. For example:\n",
        "`t.Tensor([71,72,70,75,71,72,70, 68,65,60,68,60,55,59, 75,80,85,80,78,72,83]) -> t.tensor([71.5714, 62.1429, 79.0000])`. "
      ],
      "metadata": {
        "id": "4ZNKZtvpEjwm"
      }
    },
    {
      "cell_type": "code",
      "source": [
        "daily_temperatures = torch.Tensor([71,72,70,75,71,72,70, 68,65,60,68,60,55,59, 75,80,85,80,78,72,83])\n",
        "daily_temperatures_by_week = einops.rearrange(daily_temperatures, '(a b) -> a b', a=3, b=7)\n",
        "daily_temperatures_by_week"
      ],
      "metadata": {
        "colab": {
          "base_uri": "https://localhost:8080/"
        },
        "id": "kyXphRt4AhZa",
        "outputId": "99c3f223-6608-405f-fec9-1ae5006e7f42"
      },
      "execution_count": 195,
      "outputs": [
        {
          "output_type": "execute_result",
          "data": {
            "text/plain": [
              "tensor([[71., 72., 70., 75., 71., 72., 70.],\n",
              "        [68., 65., 60., 68., 60., 55., 59.],\n",
              "        [75., 80., 85., 80., 78., 72., 83.]])"
            ]
          },
          "metadata": {},
          "execution_count": 195
        }
      ]
    },
    {
      "cell_type": "markdown",
      "source": [
        "Also turn the vector of temperatures into the difference between that temperature and the mean weekly temperature. For example:\n",
        "`t.Tensor([71,72,70,75,71,72,70, 68,65,60,68,60,55,59, 75,80,85,80,78,72,83]) -> t.tensor([-0.5714,  0.4286, -1.5714,  3.4286, -0.5714,  0.4286, -1.5714,  5.8571, 2.8571, -2.1429,  5.8571, -2.1429, -7.1429, -3.1429, -4.0000,  1.0000,  6.0000,  1.0000, -1.0000, -7.0000,  4.0000])`."
      ],
      "metadata": {
        "id": "Wos2-fTYEpS-"
      }
    },
    {
      "cell_type": "code",
      "source": [
        "weekly_average_temperatures = torch.mean(daily_temperatures_by_week, dim=1)\n",
        "weekly_average_temperatures"
      ],
      "metadata": {
        "colab": {
          "base_uri": "https://localhost:8080/"
        },
        "id": "pQ44bkNQA6Sk",
        "outputId": "bd16aafa-0bbf-4381-97cd-ccfece9d769f"
      },
      "execution_count": 196,
      "outputs": [
        {
          "output_type": "execute_result",
          "data": {
            "text/plain": [
              "tensor([71.5714, 62.1429, 79.0000])"
            ]
          },
          "metadata": {},
          "execution_count": 196
        }
      ]
    },
    {
      "cell_type": "code",
      "source": [
        "daily_temperatures - einops.repeat(weekly_average_temperatures, '(a) -> (a 7)')"
      ],
      "metadata": {
        "colab": {
          "base_uri": "https://localhost:8080/"
        },
        "id": "0FAERaeoBMRS",
        "outputId": "31b82ca2-41f5-4383-b45b-52c4c84f4f4b"
      },
      "execution_count": 197,
      "outputs": [
        {
          "output_type": "execute_result",
          "data": {
            "text/plain": [
              "tensor([-0.5714,  0.4286, -1.5714,  3.4286, -0.5714,  0.4286, -1.5714,  5.8571,\n",
              "         2.8571, -2.1429,  5.8571, -2.1429, -7.1429, -3.1429, -4.0000,  1.0000,\n",
              "         6.0000,  1.0000, -1.0000, -7.0000,  4.0000])"
            ]
          },
          "metadata": {},
          "execution_count": 197
        }
      ]
    },
    {
      "cell_type": "markdown",
      "source": [
        "Finally, turn the vector of daily temperatures into the difference between that temperature and the mean temperature for that week, scaled so its standard deviation is 1. Sometimes this is called “normalizing” the temperature by week. For example:\n",
        "`t.Tensor([71,72,70,75,71,72,70, 68,65,60,68,60,55,59, 75,80,85,80,78,72,83]) -> t.Tensor([[-0.3326,  0.2494, -0.9146,  1.9954, -0.3326,  0.2494, -0.9146], [ 1.1839,  0.5775, -0.4331,  1.1839, -0.4331, -1.4438, -0.6353], [-0.8944,  0.2236,  1.3416,  0.2236, -0.2236, -1.5652,  0.8944]])`."
      ],
      "metadata": {
        "id": "W69V17xxExRb"
      }
    },
    {
      "cell_type": "code",
      "source": [
        "daily_temperatures_by_week_zero_mean = daily_temperatures_by_week - einops.repeat(weekly_average_temperatures, '(a) -> a 7')\n",
        "\n",
        "standard_deviations = torch.std(daily_temperatures_by_week_zero_mean, dim=1)\n",
        "\n",
        "daily_temperatures_by_week_normalized = daily_temperatures_by_week_zero_mean / einops.repeat(standard_deviations, '(a) -> a 7')\n",
        "\n",
        "daily_temperatures_by_week_normalized"
      ],
      "metadata": {
        "colab": {
          "base_uri": "https://localhost:8080/"
        },
        "id": "2I6ps1UfBo2O",
        "outputId": "cf9b63a5-abb1-4713-8270-0964855ab44d"
      },
      "execution_count": 198,
      "outputs": [
        {
          "output_type": "execute_result",
          "data": {
            "text/plain": [
              "tensor([[-0.3326,  0.2494, -0.9146,  1.9954, -0.3326,  0.2494, -0.9146],\n",
              "        [ 1.1839,  0.5775, -0.4331,  1.1839, -0.4331, -1.4438, -0.6353],\n",
              "        [-0.8944,  0.2236,  1.3416,  0.2236, -0.2236, -1.5652,  0.8944]])"
            ]
          },
          "metadata": {},
          "execution_count": 198
        }
      ]
    },
    {
      "cell_type": "markdown",
      "source": [
        "# Q3"
      ],
      "metadata": {
        "id": "m7u7O4LDFAcT"
      }
    },
    {
      "cell_type": "markdown",
      "source": [
        "Compute a batched dot product. Your function should take two tensors of the same shape `[i1, i2...in]` (which could be any shape!) and return one where the element at index `[i1, i2….in-1]` is the dot product of `a[i1,i2...in-1]` and `b[i1,i2...in-1]`. For example: `( t.Tensor([[1,1,0],[0,0,1]]), t.Tensor([[1,1,0],[1,1,0]]) ) -> t.Tensor([2., 0.])`."
      ],
      "metadata": {
        "id": "7kQe888EHqAk"
      }
    },
    {
      "cell_type": "code",
      "source": [
        "def batched_dot_product(a, b):\n",
        "  return torch.einsum('i ..., i ... -> i', a, b)\n",
        "\n",
        "a = torch.Tensor([[1,1,0],[0,0,1]])\n",
        "b = torch.Tensor([[1,1,0],[1,1,0]])\n",
        "\n",
        "batched_dot_product(a, b)"
      ],
      "metadata": {
        "colab": {
          "base_uri": "https://localhost:8080/"
        },
        "id": "eJHTFYj9FBKc",
        "outputId": "84c5c254-c64e-46ae-c805-860ed0d34067"
      },
      "execution_count": 199,
      "outputs": [
        {
          "output_type": "execute_result",
          "data": {
            "text/plain": [
              "tensor([2., 0.])"
            ]
          },
          "metadata": {},
          "execution_count": 199
        }
      ]
    },
    {
      "cell_type": "markdown",
      "source": [
        "# Q4"
      ],
      "metadata": {
        "id": "Z7x8qigVHzzZ"
      }
    },
    {
      "cell_type": "markdown",
      "source": [
        "Write a function that returns an identity matrix of size n x n. (Don’t use torch.eye or similar.)\n",
        "`3 -> t.Tensor([[1, 0, 0]\n",
        "    [0, 1, 0]\n",
        "    [0, 0, 1]])`\n",
        "\n",
        "hint: arange, rearrange, binary operations"
      ],
      "metadata": {
        "id": "h4JKlC-6H23v"
      }
    },
    {
      "cell_type": "code",
      "source": [
        "def eye(n):\n",
        "  return (torch.arange(n) == einops.rearrange(torch.arange(n), 'n -> n 1')).int()\n",
        "\n",
        "eye(3)"
      ],
      "metadata": {
        "colab": {
          "base_uri": "https://localhost:8080/"
        },
        "id": "cEp8rfIeF7jK",
        "outputId": "7e57dea8-1265-4847-8f4e-868baa24494f"
      },
      "execution_count": 200,
      "outputs": [
        {
          "output_type": "execute_result",
          "data": {
            "text/plain": [
              "tensor([[1, 0, 0],\n",
              "        [0, 1, 0],\n",
              "        [0, 0, 1]], dtype=torch.int32)"
            ]
          },
          "metadata": {},
          "execution_count": 200
        }
      ]
    },
    {
      "cell_type": "markdown",
      "source": [
        "# Q5"
      ],
      "metadata": {
        "id": "AUB0AkupPl00"
      }
    },
    {
      "cell_type": "markdown",
      "source": [
        "Let’s say there are K possible events, and each will happen with a probability in a k-length vector. Sample N times from this probability distribution.\n",
        "For example, you could roll an uneven 6 sided die (numbered 0 to 5) with probabilities `[0.05, 0.1, 0.1, 0.2, 0.15, 0.4]` 5 times and get `[5, 1, 3, 5, 4]`.\n",
        "\n",
        "Hint: torch.rand, torch.cumsum"
      ],
      "metadata": {
        "id": "riM8h7csPnkk"
      }
    },
    {
      "cell_type": "code",
      "source": [
        "def sample(distribution, n_samples):\n",
        "  cdf = torch.cumsum(distribution, dim=0)\n",
        "  repeat_cdf = einops.repeat(cdf, f\"a -> {n_samples} a\")\n",
        "\n",
        "  samples = torch.rand(n_samples)\n",
        "  repeat_samples = einops.repeat(samples, f\"a -> a {len(distribution)}\")\n",
        "\n",
        "  return (repeat_samples <= repeat_cdf).int().argmax(dim=1)\n",
        "  # return torch.multinomial(distribution, n_samples, replacement=True)\n",
        "\n",
        "distribution = torch.tensor([0.05, 0.1, 0.1, 0.2, 0.15, 0.4])\n",
        "sample(distribution, 5)"
      ],
      "metadata": {
        "colab": {
          "base_uri": "https://localhost:8080/"
        },
        "id": "pcPfiezvIGij",
        "outputId": "6a22c382-54af-4f2b-f033-036d1e70dbd0"
      },
      "execution_count": 201,
      "outputs": [
        {
          "output_type": "execute_result",
          "data": {
            "text/plain": [
              "tensor([5, 2, 2, 3, 2])"
            ]
          },
          "metadata": {},
          "execution_count": 201
        }
      ]
    },
    {
      "cell_type": "markdown",
      "source": [
        "# Q6\n",
        "\n",
        "Suppose your classifier gives you an array of scores with shape `[n_inputs, n_classes]`, where the (i, j)-element represents how confidently the classifier thinks that example i belongs to class j. A higher number represents higher confidence, and the classifier’s prediction is the class with the highest score. \n",
        "\n",
        "Given such a score array and a vector of correct classes of length n_inputs, return the accuracy of the classifier: the fraction of inputs for which the maximum score corresponds to the correct class for that input.\n",
        "\n",
        "`(tensor([[0.75, 0.5, 0.25], [0.1, 0.5, 0.4], [0.1, 0.7, 0.2]], tensor([0, 1, 0]))\n",
        "->\n",
        "tensor(0.6667)`\n",
        "\n",
        "Hint: torch.argmax"
      ],
      "metadata": {
        "id": "khUrvZyXb1e-"
      }
    },
    {
      "cell_type": "code",
      "source": [
        "def accuracy(scores, classes):\n",
        "  return (scores.argmax(dim=1) == classes).float().mean()\n",
        "\n",
        "scores = torch.tensor([[0.75, 0.5, 0.25], [0.1, 0.5, 0.4], [0.1, 0.7, 0.2]])\n",
        "classes = torch.tensor([0, 1, 0])\n",
        "\n",
        "accuracy(scores, classes)"
      ],
      "metadata": {
        "colab": {
          "base_uri": "https://localhost:8080/"
        },
        "id": "-M1av0rqRp_u",
        "outputId": "d5e3bc63-9d74-4b05-d9f9-8890eeff6983"
      },
      "execution_count": 202,
      "outputs": [
        {
          "output_type": "execute_result",
          "data": {
            "text/plain": [
              "tensor(0.6667)"
            ]
          },
          "metadata": {},
          "execution_count": 202
        }
      ]
    },
    {
      "cell_type": "markdown",
      "source": [
        "# Q7"
      ],
      "metadata": {
        "id": "JsiHdJCSdZ-O"
      }
    },
    {
      "cell_type": "markdown",
      "source": [
        "A shop sells K different items, charging `prices[k]` for item k (for k between 0 and K-1). Given a vector of item indices representing what different customers bought, calculate how much money the shop made.\n",
        "\n",
        "`(prices=tensor([0.5, 1, 1.5, 2, 2.5], items=tensor([0, 0, 1, 1, 4, 3, 2])))\n",
        "->\n",
        "tensor(9.)`\n",
        "\n",
        "Hint: pytorch advanced indexing: this is the same as numpy advanced indexing, explained here: https://numpy.org/doc/stable/reference/arrays.indexing.html#advanced-indexing, or torch.gather\n"
      ],
      "metadata": {
        "id": "pxMqkAkRdYrq"
      }
    },
    {
      "cell_type": "code",
      "source": [
        "def total_price(prices, items):\n",
        "  return prices[items].sum()\n",
        "\n",
        "prices = torch.tensor([0.5, 1, 1.5, 2, 2.5])\n",
        "items = torch.tensor([0, 0, 1, 1, 4, 3, 2])\n",
        "\n",
        "total_price(prices, items)"
      ],
      "metadata": {
        "colab": {
          "base_uri": "https://localhost:8080/"
        },
        "id": "YuDZSeuAdeFN",
        "outputId": "c7bd2985-ea22-459d-95d9-3cad84f78881"
      },
      "execution_count": 203,
      "outputs": [
        {
          "output_type": "execute_result",
          "data": {
            "text/plain": [
              "tensor(9.)"
            ]
          },
          "metadata": {},
          "execution_count": 203
        }
      ]
    }
  ]
}