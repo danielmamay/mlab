{
 "cells": [
  {
   "cell_type": "code",
   "execution_count": 1,
   "metadata": {},
   "outputs": [
    {
     "name": "stderr",
     "output_type": "stream",
     "text": [
      "COMET WARNING: As you are running in a Jupyter environment, you will need to call `experiment.end()` when finished to ensure all metrics and code are logged before exiting.\n",
      "COMET INFO: Experiment is live on comet.ml https://www.comet.ml/dnlmy/general/bf01f5b01e9d4e188444f248d5bdc803\n",
      "\n"
     ]
    }
   ],
   "source": [
    "from comet_ml import Experiment\n",
    "\n",
    "# Create an experiment with your api key\n",
    "experiment = Experiment(\n",
    "    api_key=\"\",\n",
    "    project_name=\"general\",\n",
    "    workspace=\"\",\n",
    ")"
   ]
  },
  {
   "cell_type": "code",
   "execution_count": 2,
   "metadata": {},
   "outputs": [],
   "source": [
    "import torch\n",
    "from torch import nn\n",
    "from torch.optim import SGD\n",
    "import w1d4_tests\n",
    "import numpy as np\n",
    "import matplotlib.pyplot as plt\n",
    "import gin"
   ]
  },
  {
   "cell_type": "code",
   "execution_count": 3,
   "metadata": {},
   "outputs": [
    {
     "data": {
      "text/plain": [
       "8192"
      ]
     },
     "execution_count": 3,
     "metadata": {},
     "output_type": "execute_result"
    }
   ],
   "source": [
    "fname = 'small_moon.jpg'\n",
    "data_train, data_test =  w1d4_tests.load_image(fname)\n",
    "\n",
    "dir(data_train.dataset)\n",
    "data_train.dataset.__len__()"
   ]
  },
  {
   "cell_type": "code",
   "execution_count": 4,
   "metadata": {},
   "outputs": [],
   "source": [
    "class OurNet(nn.Module):\n",
    "    def __init__(self, P, H, K):\n",
    "        super(OurNet, self).__init__()\n",
    "        self.layers = nn.Sequential(\n",
    "            nn.Linear(P, H),\n",
    "            nn.ReLU(),\n",
    "            nn.Linear(H, H),\n",
    "            nn.ReLU(),\n",
    "            nn.Linear(H, K)\n",
    "        )\n",
    "    \n",
    "    def forward(self, x):\n",
    "        return self.layers(x)\n",
    "    "
   ]
  },
  {
   "cell_type": "code",
   "execution_count": 7,
   "metadata": {},
   "outputs": [],
   "source": [
    "on = OurNet(2, 400, 3)"
   ]
  },
  {
   "cell_type": "code",
   "execution_count": 8,
   "metadata": {},
   "outputs": [
    {
     "name": "stdout",
     "output_type": "stream",
     "text": [
      "Congrats! You've passed the test.\n"
     ]
    }
   ],
   "source": [
    "w1d4_tests.test_mlp(OurNet)"
   ]
  },
  {
   "cell_type": "code",
   "execution_count": 9,
   "metadata": {},
   "outputs": [],
   "source": [
    "gin.enter_interactive_mode()\n",
    "\n",
    "@gin.configurable\n",
    "def train(model, dataloader, lr, momentum):\n",
    "    optimizer = torch.optim.SGD(model.parameters(), lr, momentum)\n",
    "    # optimizer = RMSPROP(model.parameters(), 0.0002, 0.001, 0.001, 0, 0.7)\n",
    "    \n",
    "    loss_function = nn.L1Loss()\n",
    "\n",
    "    model.train()\n",
    "\n",
    "    for i, data in enumerate(dataloader):\n",
    "        inputs, target = data\n",
    "\n",
    "        optimizer.zero_grad()\n",
    "\n",
    "        outputs = model(inputs)\n",
    "\n",
    "        loss = loss_function(outputs, target)\n",
    "\n",
    "        loss.backward()\n",
    "        \n",
    "        optimizer.step()\n",
    "\n",
    "        #print(\"loss: \", loss.item())\n",
    "\n",
    "    return model\n",
    "\n",
    "if __name__ == \"__main__\":\n",
    "    with gin.unlock_config():\n",
    "        gin.parse_config_file(config_file=\"config.gin\")\n",
    "        train(on, data_train)"
   ]
  },
  {
   "cell_type": "code",
   "execution_count": 10,
   "metadata": {},
   "outputs": [
    {
     "name": "stderr",
     "output_type": "stream",
     "text": [
      "COMET INFO: ---------------------------\n",
      "COMET INFO: Comet.ml Experiment Summary\n",
      "COMET INFO: ---------------------------\n",
      "COMET INFO:   Data:\n",
      "COMET INFO:     display_summary_level : 1\n",
      "COMET INFO:     url                   : https://www.comet.ml/dnlmy/general/bf01f5b01e9d4e188444f248d5bdc803\n",
      "COMET INFO:   Metrics [count] (min, max):\n",
      "COMET INFO:     loss [7] : (0.22129066288471222, 0.3018226623535156)\n",
      "COMET INFO:   Uploads:\n",
      "COMET INFO:     environment details      : 1\n",
      "COMET INFO:     filename                 : 1\n",
      "COMET INFO:     git metadata             : 1\n",
      "COMET INFO:     git-patch (uncompressed) : 1 (9.82 MB)\n",
      "COMET INFO:     installed packages       : 1\n",
      "COMET INFO:     model graph              : 1\n",
      "COMET INFO:     notebook                 : 1\n",
      "COMET INFO:     os packages              : 1\n",
      "COMET INFO:     source_code              : 1\n",
      "COMET INFO: ---------------------------\n",
      "COMET INFO: Uploading metrics, params, and assets to Comet before program termination (may take several seconds)\n",
      "COMET INFO: The Python SDK has 3600 seconds to finish before aborting...\n"
     ]
    }
   ],
   "source": [
    "experiment.end()"
   ]
  },
  {
   "cell_type": "code",
   "execution_count": 691,
   "metadata": {},
   "outputs": [
    {
     "name": "stdout",
     "output_type": "stream",
     "text": [
      "Congrats! You've passed the test.\n"
     ]
    }
   ],
   "source": [
    "w1d4_tests.test_train(train)"
   ]
  },
  {
   "cell_type": "code",
   "execution_count": 669,
   "metadata": {},
   "outputs": [],
   "source": [
    "from torch import mean\n",
    "import torch as t\n",
    "\n",
    "def evaluate(model, dataloader):\n",
    "    model.eval()\n",
    "    loss_function = nn.L1Loss()\n",
    "\n",
    "    losses = []\n",
    "\n",
    "    for i, data in enumerate(dataloader):\n",
    "        inputs, target = data\n",
    "\n",
    "\n",
    "        outputs = model(inputs)\n",
    "\n",
    "        loss = loss_function(outputs, target)\n",
    "\n",
    "        losses.append(loss)\n",
    "\n",
    "    return float(mean(t.tensor(losses)))\n"
   ]
  },
  {
   "cell_type": "code",
   "execution_count": 670,
   "metadata": {},
   "outputs": [],
   "source": [
    "#w1d4_tests.test_evaluate(evaluate)"
   ]
  },
  {
   "cell_type": "code",
   "execution_count": 678,
   "metadata": {},
   "outputs": [],
   "source": [
    "class OurNet2(nn.Module):\n",
    "    def __init__(self, P, H, K):\n",
    "        super(OurNet2, self).__init__()\n",
    "        self.layers = nn.Sequential(\n",
    "            nn.Linear(P, H),\n",
    "            nn.ReLU(),\n",
    "            nn.Linear(H, H),\n",
    "            nn.ReLU(),\n",
    "            nn.Linear(H, H),\n",
    "            nn.ReLU(),\n",
    "            nn.Linear(H, H),\n",
    "            nn.ReLU(),\n",
    "            nn.Linear(H, K)\n",
    "        )\n",
    "    \n",
    "    def forward(self, x):\n",
    "        return self.layers(x)\n",
    "    "
   ]
  },
  {
   "cell_type": "code",
   "execution_count": 679,
   "metadata": {},
   "outputs": [],
   "source": [
    "on = OurNet2(2, 600, 3)"
   ]
  },
  {
   "cell_type": "code",
   "execution_count": 680,
   "metadata": {},
   "outputs": [
    {
     "name": "stdout",
     "output_type": "stream",
     "text": [
      "epoch:  0\n",
      "epoch:  1\n",
      "epoch:  2\n",
      "epoch:  3\n",
      "epoch:  4\n",
      "epoch:  5\n",
      "epoch:  6\n",
      "epoch:  7\n",
      "epoch:  8\n",
      "epoch:  9\n",
      "epoch:  10\n",
      "epoch:  11\n",
      "epoch:  12\n",
      "epoch:  13\n",
      "epoch:  14\n",
      "epoch:  15\n",
      "epoch:  16\n",
      "epoch:  17\n",
      "epoch:  18\n",
      "epoch:  19\n",
      "epoch:  20\n",
      "epoch:  21\n",
      "epoch:  22\n",
      "epoch:  23\n",
      "epoch:  24\n",
      "epoch:  25\n",
      "epoch:  26\n",
      "epoch:  27\n",
      "epoch:  28\n",
      "epoch:  29\n",
      "epoch:  30\n",
      "epoch:  31\n",
      "epoch:  32\n",
      "epoch:  33\n",
      "epoch:  34\n",
      "epoch:  35\n",
      "epoch:  36\n",
      "epoch:  37\n",
      "epoch:  38\n",
      "epoch:  39\n",
      "epoch:  40\n",
      "epoch:  41\n",
      "epoch:  42\n",
      "epoch:  43\n",
      "epoch:  44\n",
      "epoch:  45\n",
      "epoch:  46\n",
      "epoch:  47\n",
      "epoch:  48\n",
      "epoch:  49\n",
      "epoch:  50\n",
      "epoch:  51\n",
      "epoch:  52\n",
      "epoch:  53\n",
      "epoch:  54\n",
      "epoch:  55\n",
      "epoch:  56\n",
      "epoch:  57\n",
      "epoch:  58\n",
      "epoch:  59\n",
      "epoch:  60\n",
      "epoch:  61\n",
      "epoch:  62\n",
      "epoch:  63\n",
      "epoch:  64\n",
      "epoch:  65\n",
      "epoch:  66\n",
      "epoch:  67\n",
      "epoch:  68\n",
      "epoch:  69\n",
      "epoch:  70\n",
      "epoch:  71\n",
      "epoch:  72\n",
      "epoch:  73\n",
      "epoch:  74\n",
      "epoch:  75\n",
      "epoch:  76\n",
      "epoch:  77\n",
      "epoch:  78\n",
      "epoch:  79\n",
      "epoch:  80\n",
      "epoch:  81\n",
      "epoch:  82\n",
      "epoch:  83\n",
      "epoch:  84\n",
      "epoch:  85\n",
      "epoch:  86\n",
      "epoch:  87\n",
      "epoch:  88\n",
      "epoch:  89\n",
      "epoch:  90\n",
      "epoch:  91\n",
      "epoch:  92\n",
      "epoch:  93\n",
      "epoch:  94\n",
      "epoch:  95\n",
      "epoch:  96\n",
      "epoch:  97\n",
      "epoch:  98\n",
      "epoch:  99\n"
     ]
    }
   ],
   "source": [
    "epochs = 100\n",
    "\n",
    "train_losses = []\n",
    "test_losses = []\n",
    "\n",
    "for epoch in range(epochs):\n",
    "\n",
    "    print(\"epoch: \", epoch)\n",
    "\n",
    "    train_losses.append(evaluate(on, data_train))\n",
    "    test_losses.append(evaluate(on, data_train))\n",
    "\n",
    "    on = train(on, data_train)#, lr = 0.01, momentum= 0.7)"
   ]
  },
  {
   "cell_type": "code",
   "execution_count": 682,
   "metadata": {},
   "outputs": [
    {
     "data": {
      "image/png": "[encoded data removed]",
      "text/plain": [
       "<Figure size 432x288 with 1 Axes>"
      ]
     },
     "metadata": {
      "needs_background": "light"
     },
     "output_type": "display_data"
    }
   ],
   "source": [
    "from matplotlib import pyplot as pyplot\n",
    "\n",
    "plt.plot(train_losses)\n",
    "plt.plot(test_losses)\n",
    "\n",
    "plt.show()"
   ]
  },
  {
   "cell_type": "code",
   "execution_count": 683,
   "metadata": {},
   "outputs": [],
   "source": [
    "xy_pairs = []\n",
    "\n",
    "for x in t.arange(-0.5,0.5,1/256):\n",
    "    for y in t.arange(-0.5,0.5,1/256):\n",
    "        xy_pairs.append((float(x),float(y)))\n",
    "\n",
    "xy_pairs = t.tensor(xy_pairs)\n"
   ]
  },
  {
   "cell_type": "code",
   "execution_count": 684,
   "metadata": {},
   "outputs": [],
   "source": [
    "guess = on(xy_pairs)"
   ]
  },
  {
   "cell_type": "code",
   "execution_count": 685,
   "metadata": {},
   "outputs": [],
   "source": [
    "guess.shape\n",
    "guess = guess.reshape(256, 256,3)\n",
    "guess = guess + 0.5"
   ]
  },
  {
   "cell_type": "code",
   "execution_count": 686,
   "metadata": {},
   "outputs": [
    {
     "name": "stderr",
     "output_type": "stream",
     "text": [
      "Clipping input data to the valid range for imshow with RGB data ([0..1] for floats or [0..255] for integers).\n"
     ]
    },
    {
     "data": {
      "text/plain": [
       "<matplotlib.image.AxesImage at 0x7f2fc84c1820>"
      ]
     },
     "execution_count": 686,
     "metadata": {},
     "output_type": "execute_result"
    },
    {
     "data": {
      "image/png": "[encoded data removed]",
      "text/plain": [
       "<Figure size 432x288 with 1 Axes>"
      ]
     },
     "metadata": {
      "needs_background": "light"
     },
     "output_type": "display_data"
    }
   ],
   "source": [
    "plt.imshow(guess.detach().numpy())"
   ]
  },
  {
   "cell_type": "code",
   "execution_count": 368,
   "metadata": {},
   "outputs": [
    {
     "name": "stdout",
     "output_type": "stream",
     "text": [
      "tensor(0.3846, grad_fn=<MaxBackward1>)\n"
     ]
    }
   ],
   "source": [
    "print(t.max(guess))"
   ]
  },
  {
   "cell_type": "code",
   "execution_count": 369,
   "metadata": {},
   "outputs": [
    {
     "name": "stdout",
     "output_type": "stream",
     "text": [
      "tensor(-0.0101, grad_fn=<MinBackward1>)\n"
     ]
    }
   ],
   "source": [
    "print(t.min(guess))"
   ]
  },
  {
   "cell_type": "code",
   "execution_count": 370,
   "metadata": {},
   "outputs": [
    {
     "data": {
      "text/plain": [
       "2"
      ]
     },
     "execution_count": 370,
     "metadata": {},
     "output_type": "execute_result"
    }
   ],
   "source": [
    "def rosenbrock(x, y, a=1, b=100):\n",
    "    return (a-x)**2 + b*(y-x**2)**2 + 1\n",
    "\n",
    "\n",
    "f(0, 0)"
   ]
  },
  {
   "cell_type": "code",
   "execution_count": 371,
   "metadata": {},
   "outputs": [
    {
     "name": "stdout",
     "output_type": "stream",
     "text": [
      "[-2.         -1.95959596 -1.91919192 ...  1.91919192  1.95959596\n",
      "  2.        ]\n",
      "[-1. -1. -1. ...  3.  3.  3.]\n"
     ]
    }
   ],
   "source": [
    "x = np.linspace(-2.0, 2.0, 100)\n",
    "y = np.linspace(-1.0, 3.0, 100)\n",
    "\n",
    "X, Y = np.meshgrid(x, y)\n",
    "\n",
    "result = rosenbrock(X, Y, a=1, b=100)\n",
    "\n",
    "print(X.flatten())\n",
    "print(Y.flatten())"
   ]
  },
  {
   "cell_type": "code",
   "execution_count": 372,
   "metadata": {},
   "outputs": [
    {
     "data": {
      "text/plain": [
       "<matplotlib.contour.QuadContourSet at 0x7f2fc88088b0>"
      ]
     },
     "execution_count": 372,
     "metadata": {},
     "output_type": "execute_result"
    },
    {
     "data": {
      "image/png": "[encoded data removed]",
      "text/plain": [
       "<Figure size 432x288 with 1 Axes>"
      ]
     },
     "metadata": {
      "needs_background": "light"
     },
     "output_type": "display_data"
    }
   ],
   "source": [
    "plt.contourf(X, Y, np.log(result))"
   ]
  },
  {
   "cell_type": "code",
   "execution_count": 373,
   "metadata": {},
   "outputs": [],
   "source": [
    "class XY(nn.Module):\n",
    "    def __init__(self, xy):\n",
    "        super(XY, self).__init__()\n",
    "        (x, y) = xy\n",
    "        self.register_parameter(name='x', param=nn.Parameter(x))\n",
    "        self.register_parameter(name='y', param=nn.Parameter(y))\n",
    "    \n",
    "    def forward(self):\n",
    "        return (x, y)"
   ]
  },
  {
   "cell_type": "code",
   "execution_count": 374,
   "metadata": {},
   "outputs": [],
   "source": [
    "def opt_rosenbrock(xy, lr, momentum, n_iter):\n",
    "    xy = XY(xy)\n",
    "    optimizer = SGD(xy.parameters(), lr, momentum)\n",
    "    loss_function = nn.L1Loss()\n",
    "\n",
    "    xy.train()\n",
    "\n",
    "    result = t.zeros((n_iter+1, 2))\n",
    "\n",
    "    for i in range(n_iter+1):\n",
    "        optimizer.zero_grad()\n",
    "\n",
    "        output = rosenbrock(xy.get_parameter(\"x\"),xy.get_parameter(\"y\"))\n",
    "\n",
    "        loss = loss_function(output, t.tensor(0))\n",
    "\n",
    "        loss.backward()\n",
    "        optimizer.step()\n",
    "\n",
    "        result[i] = t.tensor([xy.get_parameter(\"x\"), xy.get_parameter('y')])\n",
    "\n",
    "    return result"
   ]
  },
  {
   "cell_type": "code",
   "execution_count": 375,
   "metadata": {},
   "outputs": [
    {
     "name": "stdout",
     "output_type": "stream",
     "text": [
      "\n",
      "Testing configuration:  {'lr': 0.001, 'momentum': 0.0, 'n_iter': 10}\n",
      "Your module returns different results from the example solution.\n",
      "\n",
      "Testing configuration:  {'lr': 0.001, 'momentum': 0.8, 'n_iter': 20}\n",
      "Your module returns different results from the example solution.\n"
     ]
    }
   ],
   "source": [
    "w1d4_tests.test_rosenbrock(opt_rosenbrock)"
   ]
  },
  {
   "cell_type": "code",
   "execution_count": 391,
   "metadata": {},
   "outputs": [
    {
     "data": {
      "image/png": "[encoded data removed]",
      "text/plain": [
       "<Figure size 432x288 with 1 Axes>"
      ]
     },
     "metadata": {
      "needs_background": "light"
     },
     "output_type": "display_data"
    }
   ],
   "source": [
    "traj = opt_rosenbrock(t.tensor([-1.5, 2.5]), lr=0.001, momentum=0.8, n_iter=2000)\n",
    "\n",
    "plt.contourf(X, Y, np.log(result))\n",
    "plt.plot(traj[:,0], traj[:,1], color='orange')\n",
    "plt.show()"
   ]
  },
  {
   "cell_type": "code",
   "execution_count": 392,
   "metadata": {},
   "outputs": [
    {
     "data": {
      "text/plain": [
       "1.0001030714254164"
      ]
     },
     "execution_count": 392,
     "metadata": {},
     "output_type": "execute_result"
    }
   ],
   "source": [
    "np.min(result)"
   ]
  },
  {
   "cell_type": "code",
   "execution_count": 393,
   "metadata": {},
   "outputs": [
    {
     "data": {
      "text/plain": [
       "tensor(1.0001)"
      ]
     },
     "execution_count": 393,
     "metadata": {},
     "output_type": "execute_result"
    }
   ],
   "source": [
    "rosenbrock(traj[-1,0],traj[-1,1])"
   ]
  },
  {
   "cell_type": "code",
   "execution_count": 558,
   "metadata": {},
   "outputs": [],
   "source": [
    "from torch.optim import Optimizer\n",
    "\n",
    "class SGD(Optimizer):\n",
    "    def __init__(self, params, lr, momentum=0, dampening=0, weight_decay=0):\n",
    "        self.params = list(params)\n",
    "        self.lr = lr\n",
    "        self.momentum = momentum\n",
    "        self.dampening = dampening\n",
    "        self.weight_decay = weight_decay\n",
    "\n",
    "        self.t = 1\n",
    "        self.b_tm1 = [None for _ in range(len(self.params))]\n",
    "        \n",
    "\n",
    "    def zero_grad(self):\n",
    "        for param in self.params:\n",
    "            param.grad = None\n",
    "\n",
    "    def step(self):\n",
    "\n",
    "        with torch.no_grad():\n",
    "\n",
    "            for i, param in enumerate(self.params):\n",
    "                \n",
    "                g_t = param.grad\n",
    "\n",
    "                if self.weight_decay != 0:\n",
    "                    g_t = g_t + self.weight_decay * param.data\n",
    "\n",
    "                if self.momentum != 0:\n",
    "                    if self.t > 1:\n",
    "                        b_t = self.momentum * self.b_tm1[i] + (1-self.dampening)*g_t\n",
    "                    else:\n",
    "                        b_t = g_t\n",
    "\n",
    "                    g_t = b_t\n",
    "\n",
    "                    self.b_tm1[i] = b_t\n",
    "\n",
    "                param -= self.lr * g_t\n",
    "\n",
    "            self.t += 1\n",
    "\n",
    "            return self.params\n"
   ]
  },
  {
   "cell_type": "code",
   "execution_count": 559,
   "metadata": {},
   "outputs": [
    {
     "name": "stdout",
     "output_type": "stream",
     "text": [
      "\n",
      "Testing configuration:  {'lr': 0.1, 'momentum': 0.0, 'dampening': 0.0, 'weight_decay': 0.0}\n",
      "Congrats! You've passed the test.\n",
      "\n",
      "Testing configuration:  {'lr': 0.1, 'momentum': 0.7, 'dampening': 0.0, 'weight_decay': 0.0}\n",
      "Congrats! You've passed the test.\n",
      "\n",
      "Testing configuration:  {'lr': 0.1, 'momentum': 0.5, 'dampening': 0.5, 'weight_decay': 0.0}\n",
      "Congrats! You've passed the test.\n",
      "\n",
      "Testing configuration:  {'lr': 0.1, 'momentum': 0.5, 'dampening': 0.5, 'weight_decay': 0.05}\n",
      "Congrats! You've passed the test.\n",
      "\n",
      "Testing configuration:  {'lr': 0.2, 'momentum': 0.8, 'dampening': 0.0, 'weight_decay': 0.05}\n",
      "Congrats! You've passed the test.\n"
     ]
    }
   ],
   "source": [
    "    w1d4_tests.test_sgd(SGD)"
   ]
  },
  {
   "cell_type": "code",
   "execution_count": 560,
   "metadata": {},
   "outputs": [],
   "source": [
    "from torch.optim import Optimizer\n",
    "\n",
    "class RMSPROP(Optimizer):\n",
    "    def __init__(self, params, lr, alpha = 0.99, eps=0, weight_decay=0, momentum = 0):\n",
    "        self.params = list(params)\n",
    "        self.lr = lr\n",
    "        self.momentum = momentum\n",
    "        self.eps = eps\n",
    "        self.weight_decay = weight_decay\n",
    "        self.alpha = alpha\n",
    "\n",
    "        self.b_tm1 = [0. for _ in range(len(self.params))]\n",
    "        self.v_tm1 = [0. for _ in range(len(self.params))]\n",
    "\n",
    "    def zero_grad(self):\n",
    "        for param in self.params:\n",
    "            param.grad = None\n",
    "\n",
    "    def step(self):\n",
    "        with torch.no_grad():\n",
    "            for i, param in enumerate(self.params):\n",
    "                \n",
    "                g_t = param.grad\n",
    "\n",
    "                if self.weight_decay != 0:\n",
    "                    g_t = g_t + self.weight_decay * param.data\n",
    "\n",
    "                self.v = self.alpha * self.v_tm1[i] + (1- self.alpha) * g_t ** 2\n",
    "\n",
    "\n",
    "                if self.momentum > 0:\n",
    "                     \n",
    "                    b_t = self.momentum * self.b_tm1[i] + g_t/(self.v ** 0.5 + self.eps)\n",
    "                    param -= self.lr * b_t\n",
    "                    self.b_tm1[i] = b_t\n",
    "                else:\n",
    "                    param -= self.lr * g_t / (self.v ** 0.5 + self.eps)\n",
    "\n",
    "                self.v_tm1[i] = self.v\n",
    "                \n",
    "\n",
    "\n",
    "            return self.params"
   ]
  },
  {
   "cell_type": "code",
   "execution_count": 561,
   "metadata": {},
   "outputs": [
    {
     "name": "stdout",
     "output_type": "stream",
     "text": [
      "\n",
      "Testing configuration:  {'lr': 0.1, 'alpha': 0.9, 'eps': 0.001, 'weight_decay': 0.0, 'momentum': 0.0}\n",
      "Congrats! You've passed the test.\n",
      "\n",
      "Testing configuration:  {'lr': 0.1, 'alpha': 0.95, 'eps': 0.0001, 'weight_decay': 0.05, 'momentum': 0.0}\n",
      "Congrats! You've passed the test.\n",
      "\n",
      "Testing configuration:  {'lr': 0.1, 'alpha': 0.95, 'eps': 0.0001, 'weight_decay': 0.05, 'momentum': 0.5}\n",
      "Congrats! You've passed the test.\n",
      "\n",
      "Testing configuration:  {'lr': 0.1, 'alpha': 0.95, 'eps': 0.0001, 'weight_decay': 0.05, 'momentum': 0.0}\n",
      "Congrats! You've passed the test.\n"
     ]
    }
   ],
   "source": [
    "w1d4_tests.test_rmsprop(RMSPROP)"
   ]
  },
  {
   "cell_type": "code",
   "execution_count": 562,
   "metadata": {},
   "outputs": [],
   "source": [
    "from torch.optim import Optimizer\n",
    "\n",
    "class Adam(Optimizer):\n",
    "    def __init__(self, params, lr, betas, eps, weight_decay):\n",
    "        self.params = list(params)\n",
    "        self.b1, self.b2 = betas\n",
    "        self.lr = lr\n",
    "        self.eps = eps\n",
    "        self.weight_decay = weight_decay\n",
    "\n",
    "        self.t = 1\n",
    "\n",
    "        self.m_tm1 = [0. for _ in range(len(self.params))]\n",
    "        self.v_tm1 = [0. for _ in range(len(self.params))]\n",
    "\n",
    "    def zero_grad(self):\n",
    "        for param in self.params:\n",
    "            param.grad = None\n",
    "\n",
    "    def step(self):\n",
    "        with torch.no_grad():\n",
    "            for i, param in enumerate(self.params):\n",
    "                \n",
    "                g_t = param.grad\n",
    "\n",
    "                if self.weight_decay != 0:\n",
    "                    g_t = g_t + self.weight_decay * param.data\n",
    "\n",
    "                m = self.b1 * self.m_tm1[i] + (1 - self.b1) * g_t\n",
    "                v = self.b2 * self.v_tm1[i] + (1- self.b2) * g_t ** 2\n",
    "\n",
    "                m_h = m / (1 - self.b1 ** self.t)\n",
    "                v_h = v / (1 - self.b2 ** self.t)\n",
    "\n",
    "                param -= self.lr * m_h / (v_h ** 0.5 + self.eps)\n",
    "\n",
    "                self.m_tm1[i] = m\n",
    "                self.v_tm1[i] = v\n",
    "                \n",
    "            self.t += 1\n",
    "\n",
    "            return self.params"
   ]
  },
  {
   "cell_type": "code",
   "execution_count": 563,
   "metadata": {},
   "outputs": [
    {
     "name": "stdout",
     "output_type": "stream",
     "text": [
      "\n",
      "Testing configuration:  {'lr': 0.1, 'betas': (0.8, 0.95), 'eps': 0.001, 'weight_decay': 0.0}\n",
      "Congrats! You've passed the test.\n",
      "\n",
      "Testing configuration:  {'lr': 0.1, 'betas': (0.8, 0.9), 'eps': 0.001, 'weight_decay': 0.05}\n",
      "Congrats! You've passed the test.\n",
      "\n",
      "Testing configuration:  {'lr': 0.2, 'betas': (0.9, 0.95), 'eps': 0.01, 'weight_decay': 0.08}\n",
      "Congrats! You've passed the test.\n"
     ]
    }
   ],
   "source": [
    "w1d4_tests.test_adam(Adam)"
   ]
  },
  {
   "cell_type": "code",
   "execution_count": 580,
   "metadata": {},
   "outputs": [],
   "source": [
    "xy = t.tensor([-1.5, 2.5])\n",
    "\n",
    "def opt_rosenbrock_sgd(xy, lr, momentum, n_iter):\n",
    "    xy = XY(xy)\n",
    "    optimizer = SGD(xy.parameters(), lr, momentum)\n",
    "    loss_function = nn.L1Loss()\n",
    "\n",
    "    xy.train()\n",
    "\n",
    "    result = t.zeros((n_iter+1, 2))\n",
    "\n",
    "    for i in range(n_iter+1):\n",
    "        optimizer.zero_grad()\n",
    "\n",
    "        output = rosenbrock(xy.get_parameter(\"x\"),xy.get_parameter(\"y\"))\n",
    "\n",
    "        loss = loss_function(output, t.tensor(0))\n",
    "\n",
    "        loss.backward()\n",
    "        optimizer.step()\n",
    "\n",
    "        result[i] = t.tensor([xy.get_parameter(\"x\"), xy.get_parameter('y')])\n",
    "\n",
    "    return result\n"
   ]
  },
  {
   "cell_type": "code",
   "execution_count": 581,
   "metadata": {},
   "outputs": [
    {
     "data": {
      "image/png": "[encoded data removed]",
      "text/plain": [
       "<Figure size 432x288 with 1 Axes>"
      ]
     },
     "metadata": {
      "needs_background": "light"
     },
     "output_type": "display_data"
    }
   ],
   "source": [
    "traj = opt_rosenbrock_sgd(xy, 0.001, 0.9, 2000)\n",
    "\n",
    "plt.contourf(X, Y, np.log(result))\n",
    "plt.plot(traj[:,0], traj[:,1], color='orange')\n",
    "plt.show()"
   ]
  },
  {
   "cell_type": "code",
   "execution_count": null,
   "metadata": {},
   "outputs": [],
   "source": [
    "our_rmsprop = RMSPROP(xy.parameters(), 0.001, 0.99, 0)\n",
    "our_adam = Adam(xy.parameters(), 0.001, [0.001, 0.001], 0.001, 0)"
   ]
  },
  {
   "cell_type": "code",
   "execution_count": 609,
   "metadata": {},
   "outputs": [],
   "source": [
    "xy = t.tensor([-1.5, 2.5])\n",
    "\n",
    "def opt_rosenbrock_rmsprop(xy, lr, alpha, eps, weight_decay, momentum, n_iter):\n",
    "    xy = XY(xy)\n",
    "    optimizer = RMSPROP(xy.parameters(), lr, alpha, eps, weight_decay, momentum)\n",
    "    loss_function = nn.L1Loss()\n",
    "\n",
    "    xy.train()\n",
    "\n",
    "    result = t.zeros((n_iter+1, 2))\n",
    "\n",
    "    for i in range(n_iter+1):\n",
    "        optimizer.zero_grad()\n",
    "\n",
    "        output = rosenbrock(xy.get_parameter(\"x\"),xy.get_parameter(\"y\"))\n",
    "\n",
    "        loss = loss_function(output, t.tensor(0))\n",
    "\n",
    "        loss.backward()\n",
    "        optimizer.step()\n",
    "\n",
    "        result[i] = t.tensor([xy.get_parameter(\"x\"), xy.get_parameter('y')])\n",
    "\n",
    "    return result"
   ]
  },
  {
   "cell_type": "code",
   "execution_count": 610,
   "metadata": {},
   "outputs": [
    {
     "data": {
      "image/png": "[encoded data removed]",
      "text/plain": [
       "<Figure size 432x288 with 1 Axes>"
      ]
     },
     "metadata": {
      "needs_background": "light"
     },
     "output_type": "display_data"
    }
   ],
   "source": [
    "traj = opt_rosenbrock_rmsprop(xy, 0.001, 0.001, 0.001, 0, 0.9, 500)\n",
    "\n",
    "plt.contourf(X, Y, np.log(result))\n",
    "plt.plot(traj[:,0], traj[:,1], color='orange')\n",
    "plt.show()"
   ]
  },
  {
   "cell_type": "code",
   "execution_count": 601,
   "metadata": {},
   "outputs": [],
   "source": [
    "xy = t.tensor([-1.5, 2.5])\n",
    "\n",
    "def opt_rosenbrock_adam(xy, lr, betas, eps, weight_decay, n_iter):\n",
    "    xy = XY(xy)\n",
    "    optimizer = Adam(xy.parameters(), lr, betas, eps, weight_decay)\n",
    "    loss_function = nn.L1Loss()\n",
    "\n",
    "    xy.train()\n",
    "\n",
    "    result = t.zeros((n_iter+1, 2))\n",
    "\n",
    "    for i in range(n_iter+1):\n",
    "        optimizer.zero_grad()\n",
    "\n",
    "        output = rosenbrock(xy.get_parameter(\"x\"),xy.get_parameter(\"y\"))\n",
    "\n",
    "        loss = loss_function(output, t.tensor(0))\n",
    "\n",
    "        loss.backward()\n",
    "        optimizer.step()\n",
    "\n",
    "        result[i] = t.tensor([xy.get_parameter(\"x\"), xy.get_parameter('y')])\n",
    "\n",
    "    return result"
   ]
  },
  {
   "cell_type": "code",
   "execution_count": 602,
   "metadata": {},
   "outputs": [
    {
     "data": {
      "image/png": "[encoded data removed]",
      "text/plain": [
       "<Figure size 432x288 with 1 Axes>"
      ]
     },
     "metadata": {
      "needs_background": "light"
     },
     "output_type": "display_data"
    }
   ],
   "source": [
    "traj = opt_rosenbrock_adam(xy, 0.001, (0.001, 0.001), 1e-8, 0.9, 2500)\n",
    "\n",
    "plt.contourf(X, Y, np.log(result))\n",
    "plt.plot(traj[:,0], traj[:,1], color='orange')\n",
    "plt.show()"
   ]
  },
  {
   "cell_type": "code",
   "execution_count": 47,
   "metadata": {},
   "outputs": [],
   "source": [
    "def make_grid(possible_values):\n",
    "    a = possible_values.values()\n",
    "    pvs = list(itertools.product(*a))\n",
    "\n",
    "    ld = []\n",
    "    for pv in pvs:\n",
    "        dict = {}\n",
    "        for e, key in enumerate(possible_values.keys()):\n",
    "            dict[key] = pv[e]\n",
    "        ld.append(dict)\n",
    "\n",
    "    return ld"
   ]
  },
  {
   "cell_type": "code",
   "execution_count": 48,
   "metadata": {},
   "outputs": [],
   "source": [
    "import itertools\n",
    "a = np.array([3,6,5,2])"
   ]
  },
  {
   "cell_type": "code",
   "execution_count": 49,
   "metadata": {},
   "outputs": [],
   "source": [
    "d = {\n",
    "    \"lr\" : [0.01, 0.02, 0.03],\n",
    "    \"momentum\" : [0.7,0.8],\n",
    "    \"beta\" : [0.1,0.2,0.3,0.4]\n",
    "}"
   ]
  },
  {
   "cell_type": "code",
   "execution_count": 50,
   "metadata": {},
   "outputs": [],
   "source": [
    "a = d.values()\n",
    "pvs = list(itertools.product(*a))"
   ]
  },
  {
   "cell_type": "code",
   "execution_count": 51,
   "metadata": {},
   "outputs": [
    {
     "data": {
      "text/plain": [
       "[{'lr': 0.01, 'momentum': 0.7, 'beta': 0.1},\n",
       " {'lr': 0.01, 'momentum': 0.7, 'beta': 0.2},\n",
       " {'lr': 0.01, 'momentum': 0.7, 'beta': 0.3},\n",
       " {'lr': 0.01, 'momentum': 0.7, 'beta': 0.4},\n",
       " {'lr': 0.01, 'momentum': 0.8, 'beta': 0.1},\n",
       " {'lr': 0.01, 'momentum': 0.8, 'beta': 0.2},\n",
       " {'lr': 0.01, 'momentum': 0.8, 'beta': 0.3},\n",
       " {'lr': 0.01, 'momentum': 0.8, 'beta': 0.4},\n",
       " {'lr': 0.02, 'momentum': 0.7, 'beta': 0.1},\n",
       " {'lr': 0.02, 'momentum': 0.7, 'beta': 0.2},\n",
       " {'lr': 0.02, 'momentum': 0.7, 'beta': 0.3},\n",
       " {'lr': 0.02, 'momentum': 0.7, 'beta': 0.4},\n",
       " {'lr': 0.02, 'momentum': 0.8, 'beta': 0.1},\n",
       " {'lr': 0.02, 'momentum': 0.8, 'beta': 0.2},\n",
       " {'lr': 0.02, 'momentum': 0.8, 'beta': 0.3},\n",
       " {'lr': 0.02, 'momentum': 0.8, 'beta': 0.4},\n",
       " {'lr': 0.03, 'momentum': 0.7, 'beta': 0.1},\n",
       " {'lr': 0.03, 'momentum': 0.7, 'beta': 0.2},\n",
       " {'lr': 0.03, 'momentum': 0.7, 'beta': 0.3},\n",
       " {'lr': 0.03, 'momentum': 0.7, 'beta': 0.4},\n",
       " {'lr': 0.03, 'momentum': 0.8, 'beta': 0.1},\n",
       " {'lr': 0.03, 'momentum': 0.8, 'beta': 0.2},\n",
       " {'lr': 0.03, 'momentum': 0.8, 'beta': 0.3},\n",
       " {'lr': 0.03, 'momentum': 0.8, 'beta': 0.4}]"
      ]
     },
     "execution_count": 51,
     "metadata": {},
     "output_type": "execute_result"
    }
   ],
   "source": [
    "ld = []\n",
    "for pv in pvs:\n",
    "    dict = {}\n",
    "    for e, key in enumerate(d.keys()):\n",
    "        dict[key] = pv[e]\n",
    "    ld.append(dict)\n",
    "\n",
    "ld\n",
    "\n"
   ]
  },
  {
   "cell_type": "code",
   "execution_count": 52,
   "metadata": {},
   "outputs": [
    {
     "data": {
      "text/plain": [
       "[{'train.lr': 0.1, 'Model.hidden_size': 768},\n",
       " {'train.lr': 0.1, 'Model.hidden_size': 1024},\n",
       " {'train.lr': 0.01, 'Model.hidden_size': 768},\n",
       " {'train.lr': 0.01, 'Model.hidden_size': 1024},\n",
       " {'train.lr': 0.001, 'Model.hidden_size': 768},\n",
       " {'train.lr': 0.001, 'Model.hidden_size': 1024}]"
      ]
     },
     "execution_count": 52,
     "metadata": {},
     "output_type": "execute_result"
    }
   ],
   "source": [
    "d2 = {\n",
    "  \"train.lr\":          np.geomspace(1e-1, 1e-3, 3),\n",
    "  \"Model.hidden_size\": [768, 1024],\n",
    "}\n",
    "\n",
    "make_grid(d2)"
   ]
  },
  {
   "cell_type": "code",
   "execution_count": 39,
   "metadata": {},
   "outputs": [
    {
     "data": {
      "text/plain": [
       "array([0.1  , 0.01 , 0.001])"
      ]
     },
     "execution_count": 39,
     "metadata": {},
     "output_type": "execute_result"
    }
   ],
   "source": [
    "np.geomspace(1e-1, 1e-3, 3)"
   ]
  },
  {
   "cell_type": "code",
   "execution_count": null,
   "metadata": {},
   "outputs": [],
   "source": []
  },
  {
   "cell_type": "code",
   "execution_count": null,
   "metadata": {},
   "outputs": [],
   "source": []
  },
  {
   "cell_type": "code",
   "execution_count": null,
   "metadata": {},
   "outputs": [],
   "source": []
  },
  {
   "cell_type": "code",
   "execution_count": null,
   "metadata": {},
   "outputs": [],
   "source": []
  },
  {
   "cell_type": "code",
   "execution_count": null,
   "metadata": {},
   "outputs": [],
   "source": []
  },
  {
   "cell_type": "code",
   "execution_count": null,
   "metadata": {},
   "outputs": [],
   "source": []
  },
  {
   "cell_type": "code",
   "execution_count": null,
   "metadata": {},
   "outputs": [],
   "source": []
  },
  {
   "cell_type": "code",
   "execution_count": null,
   "metadata": {},
   "outputs": [],
   "source": []
  },
  {
   "cell_type": "code",
   "execution_count": null,
   "metadata": {},
   "outputs": [],
   "source": []
  },
  {
   "cell_type": "code",
   "execution_count": null,
   "metadata": {},
   "outputs": [],
   "source": []
  },
  {
   "cell_type": "code",
   "execution_count": null,
   "metadata": {},
   "outputs": [],
   "source": []
  },
  {
   "cell_type": "code",
   "execution_count": null,
   "metadata": {},
   "outputs": [],
   "source": []
  },
  {
   "cell_type": "code",
   "execution_count": null,
   "metadata": {},
   "outputs": [],
   "source": []
  },
  {
   "cell_type": "code",
   "execution_count": null,
   "metadata": {},
   "outputs": [],
   "source": []
  },
  {
   "cell_type": "code",
   "execution_count": null,
   "metadata": {},
   "outputs": [],
   "source": []
  },
  {
   "cell_type": "code",
   "execution_count": null,
   "metadata": {},
   "outputs": [],
   "source": []
  },
  {
   "cell_type": "code",
   "execution_count": null,
   "metadata": {},
   "outputs": [],
   "source": []
  },
  {
   "cell_type": "code",
   "execution_count": null,
   "metadata": {},
   "outputs": [],
   "source": []
  },
  {
   "cell_type": "code",
   "execution_count": null,
   "metadata": {},
   "outputs": [],
   "source": []
  },
  {
   "cell_type": "code",
   "execution_count": null,
   "metadata": {},
   "outputs": [],
   "source": []
  },
  {
   "cell_type": "code",
   "execution_count": null,
   "metadata": {},
   "outputs": [],
   "source": []
  },
  {
   "cell_type": "code",
   "execution_count": null,
   "metadata": {},
   "outputs": [],
   "source": []
  },
  {
   "cell_type": "code",
   "execution_count": null,
   "metadata": {},
   "outputs": [],
   "source": []
  },
  {
   "cell_type": "code",
   "execution_count": null,
   "metadata": {},
   "outputs": [],
   "source": []
  },
  {
   "cell_type": "code",
   "execution_count": null,
   "metadata": {},
   "outputs": [],
   "source": []
  },
  {
   "cell_type": "code",
   "execution_count": null,
   "metadata": {},
   "outputs": [],
   "source": []
  },
  {
   "cell_type": "code",
   "execution_count": null,
   "metadata": {},
   "outputs": [],
   "source": []
  },
  {
   "cell_type": "code",
   "execution_count": null,
   "metadata": {},
   "outputs": [],
   "source": []
  },
  {
   "cell_type": "code",
   "execution_count": null,
   "metadata": {},
   "outputs": [],
   "source": []
  },
  {
   "cell_type": "code",
   "execution_count": null,
   "metadata": {},
   "outputs": [],
   "source": []
  },
  {
   "cell_type": "code",
   "execution_count": null,
   "metadata": {},
   "outputs": [],
   "source": []
  },
  {
   "cell_type": "code",
   "execution_count": null,
   "metadata": {},
   "outputs": [],
   "source": []
  },
  {
   "cell_type": "code",
   "execution_count": null,
   "metadata": {},
   "outputs": [],
   "source": []
  },
  {
   "cell_type": "code",
   "execution_count": null,
   "metadata": {},
   "outputs": [],
   "source": []
  },
  {
   "cell_type": "code",
   "execution_count": null,
   "metadata": {},
   "outputs": [],
   "source": []
  },
  {
   "cell_type": "code",
   "execution_count": null,
   "metadata": {},
   "outputs": [],
   "source": []
  },
  {
   "cell_type": "code",
   "execution_count": null,
   "metadata": {},
   "outputs": [],
   "source": []
  },
  {
   "cell_type": "code",
   "execution_count": null,
   "metadata": {},
   "outputs": [],
   "source": []
  },
  {
   "cell_type": "code",
   "execution_count": null,
   "metadata": {},
   "outputs": [],
   "source": []
  }
 ],
 "metadata": {
  "interpreter": {
   "hash": "e7370f93d1d0cde622a1f8e1c04877d8463912d04d973331ad4851f04de6915a"
  },
  "kernelspec": {
   "display_name": "Python 3 (ipykernel)",
   "language": "python",
   "name": "python3"
  },
  "language_info": {
   "codemirror_mode": {
    "name": "ipython",
    "version": 3
   },
   "file_extension": ".py",
   "mimetype": "text/x-python",
   "name": "python",
   "nbconvert_exporter": "python",
   "pygments_lexer": "ipython3",
   "version": "3.8.5"
  }
 },
 "nbformat": 4,
 "nbformat_minor": 2
}
